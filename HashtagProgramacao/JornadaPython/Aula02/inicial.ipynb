{
 "cells": [
  {
   "cell_type": "markdown",
   "metadata": {},
   "source": [
    "# Python Insights - Analisando Dados com Python\n",
    "\n",
    "### Case - Cancelamento de Clientes\n",
    "\n",
    "Você foi contratado por uma empresa com mais de 800 mil clientes para um projeto de Dados. Recentemente a empresa percebeu que da sua base total de clientes, a maioria são clientes inativos, ou seja, que já cancelaram o serviço.\n",
    "\n",
    "Precisando melhorar seus resultados ela quer conseguir entender os principais motivos desses cancelamentos e quais as ações mais eficientes para reduzir esse número.\n",
    "\n",
    "Base de dados e arquivos: https://drive.google.com/drive/folders/1uDesZePdkhiraJmiyeZ-w5tfc8XsNYFZ?usp=drive_link"
   ]
  },
  {
   "cell_type": "code",
   "execution_count": null,
   "metadata": {},
   "outputs": [],
   "source": [
    "# Passo a passo do projeto\n",
    "# Passo 1: Importar a base de dados\n",
    "    # !pip install pandas numpy openpyxl\n",
    "import pandas as pd\n",
    "\n",
    "tabela = pd.read_csv(\"cancelamentos_sample.csv\")"
   ]
  },
  {
   "cell_type": "code",
   "execution_count": null,
   "metadata": {},
   "outputs": [],
   "source": [
    "# Passo 2: Visualizar a base de dados\n",
    "display(tabela)"
   ]
  },
  {
   "cell_type": "code",
   "execution_count": null,
   "metadata": {},
   "outputs": [],
   "source": [
    "# Passo 3: Corrigir os problemas da base de dados\n",
    "    # Identificar e remover colunas inúteis (ex.: CustomerID) - \"Informações que não te ajudam te atrapalham\"\n",
    "tabela = tabela.drop(columns=[\"CustomerId\"])\n",
    "    # Identificar e remover linhas com valores vazios \n",
    "print(tabela.info())\n",
    "tabela = tabela.dropna()"
   ]
  },
  {
   "cell_type": "code",
   "execution_count": null,
   "metadata": {},
   "outputs": [],
   "source": [
    "# Passo 4: Análise inicial dos cancelamentos\n",
    "    # Identificar quantas pessoas cancelaram e quantas não cancelaram\n",
    "display(tabela[\"cancelou\"].value_counts())\n",
    "    # em porcentagem\n",
    "display(tabela[\"cancelou\"].value_counts(normalize=True))"
   ]
  },
  {
   "cell_type": "code",
   "execution_count": null,
   "metadata": {},
   "outputs": [],
   "source": [
    "# Passo 5: Análise das causas dos cancelamentos (como as colunas da base impactam no cancelamento)\n",
    "    # gráficos/dashboards\n",
    "%pip install plotly\n",
    "import plotly.express as px\n",
    "\n",
    "    # criar o gráfico\n",
    "for coluna in tabela.columns:\n",
    "    grafico = px.histogram(tabela, x=coluna, color=\"cancelou\")\n",
    "        #exibir o gráfico\n",
    "    grafico.show()"
   ]
  },
  {
   "cell_type": "code",
   "execution_count": null,
   "metadata": {},
   "outputs": [],
   "source": [
    "# clientes do contrato mensais TODOS cancelam\n",
    "    # oferecer desconto nos planos anuais e trimestrais\n",
    "tabela = tabela[tabela[\"duracao_contrato\"] != \"Monthly\"]\n",
    "\n",
    "# clientes que ligam mais do que 4 vezes para o call center, cancelam\n",
    "    # criar um processo para resolver o problema do cliente em no máximo 3 ligações\n",
    "tabela = tabela[tabela[\"ligacoes_callcenter\"] <= 4]\n",
    "\n",
    "# cliente que atrasaram mais de 20 dias, cancelaram\n",
    "    # política de resolver atrasos em até 10 dias (equipe financeira)\n",
    "tabela = tabela[tabela[\"dias_atraso\"] <= 20]\n",
    "\n",
    "\n",
    "display(tabela[\"cancelou\"].value_counts())\n",
    "# em porcentagem\n",
    "display(tabela[\"cancelou\"].value_counts(normalize=True))"
   ]
  }
 ],
 "metadata": {
  "kernelspec": {
   "display_name": "base",
   "language": "python",
   "name": "python3"
  },
  "language_info": {
   "codemirror_mode": {
    "name": "ipython",
    "version": 3
   },
   "file_extension": ".py",
   "mimetype": "text/x-python",
   "name": "python",
   "nbconvert_exporter": "python",
   "pygments_lexer": "ipython3",
   "version": "3.8.4"
  },
  "orig_nbformat": 4
 },
 "nbformat": 4,
 "nbformat_minor": 2
}
